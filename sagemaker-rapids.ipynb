{
 "cells": [
  {
   "cell_type": "markdown",
   "metadata": {},
   "source": [
    "# Running RAPIDS hyperparameter experiments at scale on Amazon SageMaker"
   ]
  },
  {
   "cell_type": "markdown",
   "metadata": {},
   "source": [
    "##### Import packages and create Amazon SageMaker and Boto3 sessions"
   ]
  },
  {
   "cell_type": "code",
   "execution_count": null,
   "metadata": {},
   "outputs": [],
   "source": [
    "import os\n",
    "import numpy as np\n",
    "import time\n",
    "import numpy as np\n",
    "import sagemaker\n",
    "import time\n",
    "import boto3\n",
    "from sagemaker.s3 import S3Uploader\n",
    "\n",
    "sess = boto3.Session()\n",
    "s3 = boto3.resource('s3')\n",
    "sagemaker_session = sagemaker.Session()\n",
    "role = sagemaker.get_execution_role()"
   ]
  },
  {
   "cell_type": "markdown",
   "metadata": {},
   "source": [
    "##### Download the higgs-boson dataset"
   ]
  },
  {
   "cell_type": "code",
   "execution_count": null,
   "metadata": {},
   "outputs": [],
   "source": [
    "!mkdir dataset\n",
    "!wget -P dataset https://archive.ics.uci.edu/ml/machine-learning-databases/00280/HIGGS.csv.gz\n",
    "!gunzip dataset/HIGGS.csv.gz"
   ]
  },
  {
   "cell_type": "markdown",
   "metadata": {},
   "source": [
    "##### Download the RAPIDS container from Docker hub"
   ]
  },
  {
   "cell_type": "code",
   "execution_count": null,
   "metadata": {},
   "outputs": [],
   "source": [
    "!docker pull rapidsai/rapidsai:cuda10.0-runtime-ubuntu16.04"
   ]
  },
  {
   "cell_type": "markdown",
   "metadata": {},
   "source": [
    "##### Define hyperparameters: start with best guess values\n",
    "Find the full list of Random Forest hyperparameters here in the RAPIDS doc page:\n",
    "<br>\n",
    "https://rapidsai.github.io/projects/cuml/en/0.11.0/api.html#random-forest"
   ]
  },
  {
   "cell_type": "code",
   "execution_count": null,
   "metadata": {},
   "outputs": [],
   "source": [
    "hyperparams={ \n",
    "    'n_estimators'       : 15,\n",
    "    'max_depth'          : 5,\n",
    "    'n_bins'             : 8,\n",
    "    'split_criterion'    : 0,      # GINI:0, ENTROPY:1\n",
    "    'split_algo'         : 0,      # HIST:0 GLOBAL_QUANTILE:1\n",
    "    'bootstrap'          : 0,      # true: sample with replacement, false: sample without replacement\n",
    "    'bootstrap_features' : 0,      # true: sample with replacement, false: sample without replacement\n",
    "    'max_leaves'         : -1,     # unlimited leaves\n",
    "    'max_features'       : 0.2, \n",
    "}"
   ]
  },
  {
   "cell_type": "markdown",
   "metadata": {},
   "source": [
    "##### Before we run a large scale experiment, test training locally using the SageMaker SDK"
   ]
  },
  {
   "cell_type": "markdown",
   "metadata": {},
   "source": [
    "##### Extend RAPIDS container by copying the training script and installing SageMaker containers which makes RAPIDS compatible with SageMaker"
   ]
  },
  {
   "cell_type": "code",
   "execution_count": null,
   "metadata": {},
   "outputs": [],
   "source": [
    "!cat docker/Dockerfile"
   ]
  },
  {
   "cell_type": "code",
   "execution_count": null,
   "metadata": {},
   "outputs": [],
   "source": [
    "!docker build -t sagemaker-rapids:latest docker"
   ]
  },
  {
   "cell_type": "code",
   "execution_count": null,
   "metadata": {},
   "outputs": [],
   "source": [
    "from sagemaker.estimator import Estimator\n",
    "\n",
    "train_instance_type = 'local_gpu'\n",
    "local_data_dir = 'file://./dataset'\n",
    "\n",
    "rapids_estimator = Estimator(image_name='sagemaker-rapids:latest',\n",
    "                          role=role,\n",
    "                          train_instance_count=1,\n",
    "                          train_instance_type=train_instance_type,\n",
    "                          hyperparameters=hyperparams,\n",
    "                          metric_definitions=[{'Name': 'test_acc', 'Regex': 'test_acc: ([0-9\\\\.]+)'}])"
   ]
  },
  {
   "cell_type": "code",
   "execution_count": null,
   "metadata": {},
   "outputs": [],
   "source": [
    "%%time\n",
    "rapids_estimator.fit({'dataset': local_data_dir})"
   ]
  },
  {
   "cell_type": "markdown",
   "metadata": {},
   "source": []
  },
  {
   "cell_type": "code",
   "execution_count": null,
   "metadata": {},
   "outputs": [],
   "source": [
    "region = boto3.Session().region_name\n",
    "account = boto3.client('sts').get_caller_identity().get('Account')\n",
    "image = '{}.dkr.ecr.{}.amazonaws.com/sagemaker-rapids:latest'.format(account, region)"
   ]
  },
  {
   "cell_type": "code",
   "execution_count": null,
   "metadata": {},
   "outputs": [],
   "source": [
    "!aws ecr create-repository --repository-name sagemaker-rapids\n",
    "!$(aws ecr get-login --no-include-email --region {region})\n",
    "!docker tag sagemaker-rapids:latest {image}\n",
    "!docker push {image}"
   ]
  },
  {
   "cell_type": "code",
   "execution_count": null,
   "metadata": {},
   "outputs": [],
   "source": [
    "from sagemaker.tuner import IntegerParameter, CategoricalParameter, ContinuousParameter, HyperparameterTuner\n",
    "\n",
    "hyperparameter_ranges = {\n",
    "    'n_estimators'        : IntegerParameter(10, 200), \n",
    "    'max_depth'           : IntegerParameter(1, 22),\n",
    "    'n_bins'              : IntegerParameter(5, 24),\n",
    "    'split_criterion'     : CategoricalParameter([0, 1]),\n",
    "    'split_algo'          : CategoricalParameter([0, 1]),\n",
    "    'bootstrap'           : CategoricalParameter([True, False]),\n",
    "    'bootstrap_features'  : CategoricalParameter([True, False]),\n",
    "    'max_features'        : ContinuousParameter(0.01, 0.5),\n",
    "}"
   ]
  },
  {
   "cell_type": "code",
   "execution_count": null,
   "metadata": {},
   "outputs": [],
   "source": [
    "from sagemaker.estimator import Estimator\n",
    "\n",
    "train_instance_type = 'ml.p3.2xlarge'\n",
    "rapids_estimator = Estimator(image_name=image,\n",
    "                          role=role,\n",
    "                          train_instance_count=1,\n",
    "                          train_instance_type=train_instance_type,\n",
    "                          hyperparameters=hyperparams,\n",
    "                          metric_definitions=[{'Name': 'test_acc', 'Regex': 'test_acc: ([0-9\\\\.]+)'}])"
   ]
  },
  {
   "cell_type": "code",
   "execution_count": null,
   "metadata": {},
   "outputs": [],
   "source": [
    "tuner = HyperparameterTuner(rapids_estimator,\n",
    "                            objective_metric_name='test_acc',\n",
    "                            hyperparameter_ranges=hyperparameter_ranges,\n",
    "                            strategy='Bayesian',\n",
    "                            max_jobs=1,\n",
    "                            max_parallel_jobs=1,\n",
    "                            objective_type='Maximize',\n",
    "                            metric_definitions=[{'Name': 'test_acc', 'Regex': 'test_acc: ([0-9\\\\.]+)'}])"
   ]
  },
  {
   "cell_type": "markdown",
   "metadata": {},
   "source": [
    "##### Upload it to the default SageMaker bucket on Amazon S3"
   ]
  },
  {
   "cell_type": "code",
   "execution_count": null,
   "metadata": {},
   "outputs": [],
   "source": [
    "s3_data_dir = sagemaker_session.upload_data(path='dataset', key_prefix='dataset/higgs-dataset')"
   ]
  },
  {
   "cell_type": "code",
   "execution_count": null,
   "metadata": {},
   "outputs": [],
   "source": [
    "job_name = 'rapidsHPO' + time.strftime('%Y-%m-%d-%H-%M-%S-%j', time.gmtime())\n",
    "tuner.fit({'dataset': s3_data_dir}, job_name=job_name)"
   ]
  },
  {
   "cell_type": "markdown",
   "metadata": {},
   "source": [
    "## Clean up"
   ]
  },
  {
   "cell_type": "markdown",
   "metadata": {},
   "source": [
    "- Delete S3 buckets and files you don't need\n",
    "- Kill training jobs that you don't want running\n",
    "- Delete container images and the repository you just created"
   ]
  },
  {
   "cell_type": "code",
   "execution_count": null,
   "metadata": {},
   "outputs": [],
   "source": [
    "aws ecr delete-repository --force --repository-name"
   ]
  }
 ],
 "metadata": {
  "kernelspec": {
   "display_name": "conda_python3",
   "language": "python",
   "name": "conda_python3"
  },
  "language_info": {
   "codemirror_mode": {
    "name": "ipython",
    "version": 3
   },
   "file_extension": ".py",
   "mimetype": "text/x-python",
   "name": "python",
   "nbconvert_exporter": "python",
   "pygments_lexer": "ipython3",
   "version": "3.6.5"
  }
 },
 "nbformat": 4,
 "nbformat_minor": 4
}
