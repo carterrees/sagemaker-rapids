{
 "cells": [
  {
   "cell_type": "markdown",
   "metadata": {},
   "source": [
    "# Random Forest Classification"
   ]
  },
  {
   "cell_type": "code",
   "execution_count": 1,
   "metadata": {},
   "outputs": [],
   "source": [
    "import os\n",
    "import numpy as np\n",
    "import time\n",
    "import numpy as np\n",
    "import sagemaker\n",
    "import time\n",
    "import boto3\n",
    "from sagemaker.session import s3_input\n",
    "\n",
    "sagemaker_session = sagemaker.Session()\n",
    "role = sagemaker.get_execution_role()\n",
    "\n",
    "client = boto3.client('sagemaker')\n",
    "region = boto3.Session().region_name\n",
    "account = boto3.client('sts').get_caller_identity().get('Account')"
   ]
  },
  {
   "cell_type": "code",
   "execution_count": 2,
   "metadata": {},
   "outputs": [],
   "source": [
    "hyperparams={ \n",
    "    'n_estimators'       : 20,\n",
    "    'max_depth'          : 10,\n",
    "    'n_bins'             : 8,\n",
    "    'split_criterion'    : 0,      # GINI:0, ENTROPY:1\n",
    "    'split_algo'         : 0,      # HIST:0 GLOBAL_QUANTILE:1\n",
    "    'bootstrap'          : True,   # sample with replacement\n",
    "    'bootstrap_features' : False,  # sample without replacement\n",
    "    'max_leaves'         : -1,     # unlimited leaves\n",
    "    'max_features'       : 0.2, \n",
    "}"
   ]
  },
  {
   "cell_type": "code",
   "execution_count": 3,
   "metadata": {},
   "outputs": [],
   "source": [
    "from sagemaker.estimator import Estimator\n",
    "\n",
    "output_path = 's3://rapids-demos/'\n",
    "image = '{}.dkr.ecr.{}.amazonaws.com/sagemaker-rapids:latest'.format(account, region)\n",
    "\n",
    "rapids_estimator = Estimator( image_name=image,\n",
    "                          role=role,\n",
    "                          train_instance_count=1,\n",
    "                          train_instance_type='ml.p3.2xlarge',\n",
    "                          output_path=output_path,\n",
    "                          hyperparameters=hyperparams,\n",
    "                          metric_definitions=[{'Name': 'test_acc', 'Regex': 'test_acc: ([0-9\\\\.]+)'}])\n",
    "\n",
    "data_dir = 's3://rapids-demos/dataset'"
   ]
  },
  {
   "cell_type": "code",
   "execution_count": 4,
   "metadata": {},
   "outputs": [
    {
     "name": "stdout",
     "output_type": "stream",
     "text": [
      "2019-11-12 08:11:52 Starting - Starting the training job...\n",
      "2019-11-12 08:11:53 Starting - Launching requested ML instances...\n",
      "2019-11-12 08:12:52 Starting - Preparing the instances for training......\n",
      "2019-11-12 08:13:41 Downloading - Downloading input data..................\n",
      "2019-11-12 08:16:41 Training - Downloading the training image...............\n",
      "2019-11-12 08:18:56 Training - Training image download completed. Training in progress.......\n",
      "2019-11-12 08:20:14 Uploading - Uploading generated training model\n",
      "2019-11-12 08:20:14 Completed - Training job completed\n",
      "\u001b[31mtest_acc: 0.6992931214263268\u001b[0m\n",
      "Training seconds: 393\n",
      "Billable seconds: 393\n"
     ]
    }
   ],
   "source": [
    "job_name = 'rapids-sagemaker-' + time.strftime('%Y-%m-%d-%H-%M-%S-%j', time.gmtime())\n",
    "rapids_estimator.fit({'dataset': data_dir}, job_name=job_name)"
   ]
  },
  {
   "cell_type": "code",
   "execution_count": 5,
   "metadata": {},
   "outputs": [],
   "source": [
    "from sagemaker.tuner import IntegerParameter, CategoricalParameter, ContinuousParameter, HyperparameterTuner\n",
    "\n",
    "hyperparameter_ranges = {\n",
    "    'n_estimators'        : IntegerParameter(10, 200), \n",
    "    'max_depth'           : IntegerParameter(10,100),\n",
    "    'n_bins'              : IntegerParameter(5,30),\n",
    "    'split_criterion'     : CategoricalParameter([0, 1]),\n",
    "    'split_algo'          : CategoricalParameter([0, 1]),\n",
    "    'bootstrap'           : CategoricalParameter([True, False]),\n",
    "    'bootstrap_features'  : CategoricalParameter([True, False]),\n",
    "    'max_features'        : ContinuousParameter(0.01, 0.5),\n",
    "}"
   ]
  },
  {
   "cell_type": "code",
   "execution_count": 6,
   "metadata": {},
   "outputs": [],
   "source": [
    "tuner = HyperparameterTuner(rapids_estimator,\n",
    "                            objective_metric_name='test_acc',\n",
    "                            hyperparameter_ranges=hyperparameter_ranges,\n",
    "                            strategy='Random',\n",
    "                            max_jobs=32,\n",
    "                            max_parallel_jobs=8,\n",
    "                            objective_type='Maximize',\n",
    "                            metric_definitions=[{'Name': 'test_acc', 'Regex': 'test_acc: ([0-9\\\\.]+)'}])"
   ]
  },
  {
   "cell_type": "code",
   "execution_count": 7,
   "metadata": {},
   "outputs": [],
   "source": [
    "job_name = 'rapidsHPO' + time.strftime('%Y-%m-%d-%H-%M-%S-%j', time.gmtime())\n",
    "tuner.fit({'dataset': data_dir}, job_name=job_name)"
   ]
  },
  {
   "cell_type": "code",
   "execution_count": null,
   "metadata": {},
   "outputs": [],
   "source": []
  }
 ],
 "metadata": {
  "kernelspec": {
   "display_name": "conda_python3",
   "language": "python",
   "name": "conda_python3"
  },
  "language_info": {
   "codemirror_mode": {
    "name": "ipython",
    "version": 3
   },
   "file_extension": ".py",
   "mimetype": "text/x-python",
   "name": "python",
   "nbconvert_exporter": "python",
   "pygments_lexer": "ipython3",
   "version": "3.6.5"
  }
 },
 "nbformat": 4,
 "nbformat_minor": 4
}
